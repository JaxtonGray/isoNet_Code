{
 "cells": [
  {
   "cell_type": "markdown",
   "metadata": {},
   "source": [
    "Statistical Analysis of Results\n",
    "===============================\n",
    "This will be an examnination of results. Just statistical analysis nothing else."
   ]
  },
  {
   "cell_type": "markdown",
   "metadata": {},
   "source": [
    "# Table of Contents\n",
    "1. [Preliminaries](#1.-preliminaries)\n",
    "2. [Kling-Gupta Efficiency](#2.-kling-gupta-efficiency)\n",
    "   * [isoNet](#isoNet)\n",
    "   * [isoP](#isoP)\n",
    "3. [Root Mean Square Error](#3.-root-mean-square-error)\n",
    "   * [isoNet](#isoNet)\n",
    "   * [isoP](#isoP)\n",
    "4. [Combining Results](#4.-combining-results)"
   ]
  },
  {
   "cell_type": "markdown",
   "metadata": {},
   "source": [
    "# 1. Preliminaries\n",
    "This is the setup for the rest of the analysis."
   ]
  },
  {
   "cell_type": "code",
   "execution_count": null,
   "metadata": {},
   "outputs": [],
   "source": [
    "# Library imports\n",
    "import pandas as pd\n",
    "import numpy as np\n",
    "import matplotlib.pyplot as plt"
   ]
  },
  {
   "cell_type": "code",
   "execution_count": null,
   "metadata": {},
   "outputs": [],
   "source": [
    "# Load in the isotope data that it was trained on, and extract the lat lon of the individual stations\n",
    "isotope_data = pd.read_csv('Isoscape_Data.csv')\n",
    "isotope_data.drop_duplicates(subset=['Station'], inplace=True)\n",
    "isotope_data.reset_index()\n",
    "\n",
    "station_coord = isotope_data[['Station', 'Lat', 'Long']]\n",
    "station_coord.set_index('Station', inplace=True)\n",
    "station_coord = station_coord.to_dict(orient='index')"
   ]
  },
  {
   "cell_type": "code",
   "execution_count": null,
   "metadata": {},
   "outputs": [],
   "source": [
    "# Load in results into a pandas dataframe\n",
    "results = pd.read_csv('results_test.csv')\n",
    "\n",
    "# Convert the day of year column and year column into a datetime object\n",
    "results['date'] = pd.to_datetime(results['Year'].astype(str) + '-' + results['Day'].astype(str), format='%Y-%j')\n",
    "results = results.set_index('date')\n",
    "results = results.drop(columns=['Year', 'Day'])\n",
    "\n",
    "# Create new column for the station name and fill it with the station name based off the lat lon and the station_coord dataframe\n",
    "for stat in station_coord:\n",
    "    results.loc[results['Lat'] == station_coord[stat]['Lat'], 'Station'] = stat\n",
    "\n",
    "# Change the date to start on the first of each month, instead of the second\n",
    "results.index = results.index - pd.Timedelta('1D')\n",
    "\n",
    "results.head()"
   ]
  },
  {
   "cell_type": "markdown",
   "metadata": {},
   "source": [
    "# 2. Kling-Gupta Efficiency\n",
    "In this I will be breaking down the Kling-Gupta Efficiency (KGE) into its components and then analyzing the results. Finally also storing them in a dataframe for later examination."
   ]
  },
  {
   "cell_type": "markdown",
   "metadata": {},
   "source": [
    "## isoNet"
   ]
  },
  {
   "cell_type": "code",
   "execution_count": null,
   "metadata": {},
   "outputs": [],
   "source": [
    "# Create a new dataframe consisting of the mean and standard deviation of the isotope values for each station, and for the Prediction column and Actual column\n",
    "station_stats = results[\"Predictions\"].groupby(results[\"Station\"]).agg(['mean', 'std'])\n",
    "station_stats.rename(columns={'mean': 'Pred_Mean', 'std': 'Pred_Std'}, inplace=True)\n",
    "station_stats['Actual_Mean'] = results[\"Actual\"].groupby(results[\"Station\"]).mean()\n",
    "station_stats['Actual_Std'] = results[\"Actual\"].groupby(results[\"Station\"]).std()\n",
    "\n",
    "# Create a new column consisting of the pearson correlation coefficient between the Predictions and the Actual values for each station\n",
    "station_stats['Corr'] = results[\"Predictions\"].groupby(results[\"Station\"]).corr(results[\"Actual\"])\n",
    "station_stats"
   ]
  },
  {
   "cell_type": "code",
   "execution_count": null,
   "metadata": {},
   "outputs": [],
   "source": [
    "# Create new dataframe just for the KGE components and values\n",
    "kge = pd.DataFrame(columns=['alpha', 'beta', 'r', 'kge'], index=station_stats.index)\n",
    "\n",
    "# Fill in the KGE dataframe with the alpha value (variablility ratio)\n",
    "kge['alpha'] = station_stats['Pred_Std'] / station_stats['Actual_Std']\n",
    "\n",
    "# Fill in the KGE dataframe with the beta value (bias ratio)\n",
    "kge['beta'] = (station_stats['Pred_Mean'] - station_stats['Actual_Mean']) / station_stats['Actual_Mean']\n",
    "\n",
    "# Fill in the KGE dataframe with the r value (correlation coefficient)\n",
    "kge['r'] = station_stats['Corr']\n",
    "\n",
    "# Fill in the KGE dataframe with the KGE value\n",
    "kge['kge'] = 1 - np.sqrt((kge['alpha'] - 1)**2 + (kge['beta'])**2 + (1 - kge['r'])**2)\n",
    "\n",
    "kge"
   ]
  },
  {
   "cell_type": "markdown",
   "metadata": {},
   "source": [
    "## isoP\n",
    "Performing the same calculations but this time just for the isoP results"
   ]
  },
  {
   "cell_type": "code",
   "execution_count": null,
   "metadata": {},
   "outputs": [],
   "source": [
    "# Load in Data from isoP\n",
    "isoP = pd.read_csv('isoP_Output.csv')\n",
    "\n",
    "# Change longitudes to be positive\n",
    "isoP['Lon'] = isoP['Lon'] * -1\n",
    "\n",
    "# Add in the station name to the isoP dataframe with the station_coord dataframe\n",
    "for stat in station_coord:\n",
    "    isoP.loc[isoP['Lat'] == station_coord[stat]['Lat'], 'Station'] = stat\n",
    "\n",
    "# Combine Month and Year into a single column and convert to datetime object\n",
    "isoP['date'] = pd.to_datetime(isoP['Year'].astype(str) + '-' + isoP['Month'].astype(str), format='%Y-%m')\n",
    "isoP.drop(columns=['Year', 'Month'], inplace=True)\n",
    "\n",
    "# Reorder the columns\n",
    "isoP = isoP[['date', 'Station', 'Lat', 'Lon', 'isoP']]\n",
    "\n",
    "# Limit the isoP dataframe to the same dates as the results dataframe\n",
    "isoP = isoP[isoP['date'] >= results.index[0]]\n",
    "isoP = isoP[isoP['date'] <= results.index[-1]]\n",
    "isoP = isoP.set_index('date')\n"
   ]
  },
  {
   "cell_type": "code",
   "execution_count": null,
   "metadata": {},
   "outputs": [],
   "source": [
    "# Displaying all rows in results dataframe that are not in isoP dataframe\n",
    "results[~results.index.isin(isoP.index)]"
   ]
  },
  {
   "cell_type": "markdown",
   "metadata": {},
   "source": [
    "# 3. Root Mean Square Error\n",
    "In this I will be calculating the Root Mean Square Error (RMSE) "
   ]
  },
  {
   "cell_type": "code",
   "execution_count": null,
   "metadata": {},
   "outputs": [],
   "source": [
    "# In station_stats, calculate the RMSE for each station\n",
    "station_stats['RMSE'] = np.sqrt(((results['Predictions'] - results['Actual']) ** 2).groupby(results['Station']).mean())\n",
    "station_stats"
   ]
  },
  {
   "cell_type": "markdown",
   "metadata": {},
   "source": [
    "# 4. Combining Results"
   ]
  },
  {
   "cell_type": "code",
   "execution_count": null,
   "metadata": {},
   "outputs": [],
   "source": [
    "# Create a new dataframe for the RMSE and KGE values for each station and save it to a csv file\n",
    "results_stats = pd.concat([station_stats, kge], axis=1)\n",
    "results_stats.drop(columns=['Pred_Mean', 'Pred_Std', 'Actual_Mean', 'Actual_Std', 'Corr'], inplace=True)\n",
    "\n",
    "# Add in the lat and lon values for each station as the first two columns\n",
    "results_stats['Lat'] = [station_coord[stat]['Lat'] for stat in results_stats.index]\n",
    "results_stats['Long'] = [station_coord[stat]['Long'] for stat in results_stats.index]\n",
    "results_stats = results_stats[['Lat', 'Long', 'RMSE', 'alpha', 'beta', 'r', 'kge']]\n",
    "\n",
    "results_stats.to_csv('results_stats.csv')"
   ]
  }
 ],
 "metadata": {
  "kernelspec": {
   "display_name": "Python 3",
   "language": "python",
   "name": "python3"
  },
  "language_info": {
   "codemirror_mode": {
    "name": "ipython",
    "version": 3
   },
   "file_extension": ".py",
   "mimetype": "text/x-python",
   "name": "python",
   "nbconvert_exporter": "python",
   "pygments_lexer": "ipython3",
   "version": "3.12.0"
  }
 },
 "nbformat": 4,
 "nbformat_minor": 2
}
