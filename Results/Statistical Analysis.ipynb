{
 "cells": [
  {
   "cell_type": "markdown",
   "metadata": {},
   "source": [
    "Statistical Analysis of Results\n",
    "===============================\n",
    "This will be an examnination of results. Just statistical analysis nothing else."
   ]
  },
  {
   "cell_type": "markdown",
   "metadata": {},
   "source": [
    "# Table of Contents\n",
    "1. [Preliminaries](#preliminaries)\n",
    "2. [Kling-Gupta Efficiency](#kling-gupta-efficiency)"
   ]
  },
  {
   "cell_type": "markdown",
   "metadata": {},
   "source": [
    "# 1. Preliminaries\n",
    "This is the setup for the rest of the analysis."
   ]
  },
  {
   "cell_type": "code",
   "execution_count": 1,
   "metadata": {},
   "outputs": [],
   "source": [
    "# Library imports\n",
    "import pandas as pd\n",
    "import numpy as np\n",
    "import matplotlib.pyplot as plt"
   ]
  },
  {
   "cell_type": "code",
   "execution_count": 30,
   "metadata": {},
   "outputs": [],
   "source": [
    "# Load in the isotope data that it was trained on, and extract the lat lon of the individual stations\n",
    "isotope_data = pd.read_csv('Isoscape_Data.csv')\n",
    "isotope_data.drop_duplicates(subset=['Station'], inplace=True)\n",
    "isotope_data.reset_index()\n",
    "\n",
    "station_coord = isotope_data[['Station', 'Lat', 'Long']]\n",
    "station_coord.set_index('Station', inplace=True)\n",
    "station_coord = station_coord.to_dict(orient='index')"
   ]
  },
  {
   "cell_type": "code",
   "execution_count": 28,
   "metadata": {},
   "outputs": [
    {
     "data": {
      "text/html": [
       "<div>\n",
       "<style scoped>\n",
       "    .dataframe tbody tr th:only-of-type {\n",
       "        vertical-align: middle;\n",
       "    }\n",
       "\n",
       "    .dataframe tbody tr th {\n",
       "        vertical-align: top;\n",
       "    }\n",
       "\n",
       "    .dataframe thead th {\n",
       "        text-align: right;\n",
       "    }\n",
       "</style>\n",
       "<table border=\"1\" class=\"dataframe\">\n",
       "  <thead>\n",
       "    <tr style=\"text-align: right;\">\n",
       "      <th></th>\n",
       "      <th>Lat</th>\n",
       "      <th>Long</th>\n",
       "      <th>Alt</th>\n",
       "      <th>Precipitation (kg/m^2/s)</th>\n",
       "      <th>Temperature (K)</th>\n",
       "      <th>Predictions</th>\n",
       "      <th>Actual</th>\n",
       "      <th>Station</th>\n",
       "    </tr>\n",
       "    <tr>\n",
       "      <th>date</th>\n",
       "      <th></th>\n",
       "      <th></th>\n",
       "      <th></th>\n",
       "      <th></th>\n",
       "      <th></th>\n",
       "      <th></th>\n",
       "      <th></th>\n",
       "      <th></th>\n",
       "    </tr>\n",
       "  </thead>\n",
       "  <tbody>\n",
       "    <tr>\n",
       "      <th>2003-12-02</th>\n",
       "      <td>47.98</td>\n",
       "      <td>55.82</td>\n",
       "      <td>190.0</td>\n",
       "      <td>0.0</td>\n",
       "      <td>271.142517</td>\n",
       "      <td>-12.983921</td>\n",
       "      <td>-16.59</td>\n",
       "      <td>BAB</td>\n",
       "    </tr>\n",
       "    <tr>\n",
       "      <th>2003-12-02</th>\n",
       "      <td>49.38</td>\n",
       "      <td>82.12</td>\n",
       "      <td>245.0</td>\n",
       "      <td>0.0</td>\n",
       "      <td>265.255096</td>\n",
       "      <td>-20.723955</td>\n",
       "      <td>-20.07</td>\n",
       "      <td>BON</td>\n",
       "    </tr>\n",
       "    <tr>\n",
       "      <th>2003-12-02</th>\n",
       "      <td>46.29</td>\n",
       "      <td>64.15</td>\n",
       "      <td>45.0</td>\n",
       "      <td>0.0</td>\n",
       "      <td>270.236603</td>\n",
       "      <td>-14.407454</td>\n",
       "      <td>-8.42</td>\n",
       "      <td>HAB</td>\n",
       "    </tr>\n",
       "    <tr>\n",
       "      <th>2003-12-02</th>\n",
       "      <td>45.32</td>\n",
       "      <td>75.67</td>\n",
       "      <td>114.0</td>\n",
       "      <td>0.0</td>\n",
       "      <td>269.147888</td>\n",
       "      <td>-13.856897</td>\n",
       "      <td>-13.85</td>\n",
       "      <td>OTT</td>\n",
       "    </tr>\n",
       "    <tr>\n",
       "      <th>2003-12-02</th>\n",
       "      <td>48.78</td>\n",
       "      <td>123.13</td>\n",
       "      <td>178.0</td>\n",
       "      <td>0.0</td>\n",
       "      <td>252.437027</td>\n",
       "      <td>-16.355522</td>\n",
       "      <td>-12.78</td>\n",
       "      <td>SAT</td>\n",
       "    </tr>\n",
       "  </tbody>\n",
       "</table>\n",
       "</div>"
      ],
      "text/plain": [
       "              Lat    Long    Alt  Precipitation (kg/m^2/s)  Temperature (K)  \\\n",
       "date                                                                          \n",
       "2003-12-02  47.98   55.82  190.0                       0.0       271.142517   \n",
       "2003-12-02  49.38   82.12  245.0                       0.0       265.255096   \n",
       "2003-12-02  46.29   64.15   45.0                       0.0       270.236603   \n",
       "2003-12-02  45.32   75.67  114.0                       0.0       269.147888   \n",
       "2003-12-02  48.78  123.13  178.0                       0.0       252.437027   \n",
       "\n",
       "            Predictions  Actual Station  \n",
       "date                                     \n",
       "2003-12-02   -12.983921  -16.59     BAB  \n",
       "2003-12-02   -20.723955  -20.07     BON  \n",
       "2003-12-02   -14.407454   -8.42     HAB  \n",
       "2003-12-02   -13.856897  -13.85     OTT  \n",
       "2003-12-02   -16.355522  -12.78     SAT  "
      ]
     },
     "execution_count": 28,
     "metadata": {},
     "output_type": "execute_result"
    }
   ],
   "source": [
    "# Load in results into a pandas dataframe\n",
    "results = pd.read_csv('results_test.csv')\n",
    "\n",
    "# Convert the day of year column and year column into a datetime object\n",
    "results['date'] = pd.to_datetime(results['Year'].astype(str) + '-' + results['Day'].astype(str), format='%Y-%j')\n",
    "results = results.set_index('date')\n",
    "results = results.drop(columns=['Year', 'Day'])\n",
    "\n",
    "# Create new column for the station name and fill it with the station name based off the lat lon and the station_coord dataframe\n",
    "for stat in station_coord:\n",
    "    results.loc[results['Lat'] == station_coord[stat]['Lat'], 'Station'] = stat\n",
    "\n",
    "results.head()"
   ]
  },
  {
   "cell_type": "markdown",
   "metadata": {},
   "source": [
    "# 2. Kling-Gupta Efficiency\n",
    "In this I will be breaking down the Kling-Gupta Efficiency (KGE) into its components and then analyzing the results. Finally also storing them in a dataframe for later examination."
   ]
  }
 ],
 "metadata": {
  "kernelspec": {
   "display_name": "Python 3",
   "language": "python",
   "name": "python3"
  },
  "language_info": {
   "codemirror_mode": {
    "name": "ipython",
    "version": 3
   },
   "file_extension": ".py",
   "mimetype": "text/x-python",
   "name": "python",
   "nbconvert_exporter": "python",
   "pygments_lexer": "ipython3",
   "version": "3.12.0"
  }
 },
 "nbformat": 4,
 "nbformat_minor": 2
}
