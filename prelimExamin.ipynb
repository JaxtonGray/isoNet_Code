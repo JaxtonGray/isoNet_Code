{
 "cells": [
  {
   "cell_type": "markdown",
   "metadata": {},
   "source": [
    "# Examining the results from new model"
   ]
  },
  {
   "cell_type": "code",
   "execution_count": 2,
   "metadata": {},
   "outputs": [],
   "source": [
    "# Library imports\n",
    "import numpy as np\n",
    "import matplotlib.pyplot as plt\n",
    "import pandas as pd\n",
    "import datetime"
   ]
  },
  {
   "cell_type": "code",
   "execution_count": 3,
   "metadata": {},
   "outputs": [
    {
     "data": {
      "text/html": [
       "<div>\n",
       "<style scoped>\n",
       "    .dataframe tbody tr th:only-of-type {\n",
       "        vertical-align: middle;\n",
       "    }\n",
       "\n",
       "    .dataframe tbody tr th {\n",
       "        vertical-align: top;\n",
       "    }\n",
       "\n",
       "    .dataframe thead th {\n",
       "        text-align: right;\n",
       "    }\n",
       "</style>\n",
       "<table border=\"1\" class=\"dataframe\">\n",
       "  <thead>\n",
       "    <tr style=\"text-align: right;\">\n",
       "      <th></th>\n",
       "      <th>Lat</th>\n",
       "      <th>Long</th>\n",
       "      <th>Alt</th>\n",
       "      <th>Precip</th>\n",
       "      <th>Temp</th>\n",
       "      <th>Pred</th>\n",
       "      <th>Actual</th>\n",
       "    </tr>\n",
       "    <tr>\n",
       "      <th>Date</th>\n",
       "      <th></th>\n",
       "      <th></th>\n",
       "      <th></th>\n",
       "      <th></th>\n",
       "      <th></th>\n",
       "      <th></th>\n",
       "      <th></th>\n",
       "    </tr>\n",
       "  </thead>\n",
       "  <tbody>\n",
       "    <tr>\n",
       "      <th>2003-12-02</th>\n",
       "      <td>47.98</td>\n",
       "      <td>55.82</td>\n",
       "      <td>190.0</td>\n",
       "      <td>0.0</td>\n",
       "      <td>271.142517</td>\n",
       "      <td>-14.988722</td>\n",
       "      <td>-16.59</td>\n",
       "    </tr>\n",
       "    <tr>\n",
       "      <th>2003-12-02</th>\n",
       "      <td>49.38</td>\n",
       "      <td>82.12</td>\n",
       "      <td>245.0</td>\n",
       "      <td>0.0</td>\n",
       "      <td>265.255096</td>\n",
       "      <td>-21.777441</td>\n",
       "      <td>-20.07</td>\n",
       "    </tr>\n",
       "    <tr>\n",
       "      <th>2003-12-02</th>\n",
       "      <td>46.29</td>\n",
       "      <td>64.15</td>\n",
       "      <td>45.0</td>\n",
       "      <td>0.0</td>\n",
       "      <td>270.236603</td>\n",
       "      <td>-16.933195</td>\n",
       "      <td>-8.42</td>\n",
       "    </tr>\n",
       "    <tr>\n",
       "      <th>2003-12-02</th>\n",
       "      <td>45.32</td>\n",
       "      <td>75.67</td>\n",
       "      <td>114.0</td>\n",
       "      <td>0.0</td>\n",
       "      <td>269.147888</td>\n",
       "      <td>-19.425585</td>\n",
       "      <td>-13.85</td>\n",
       "    </tr>\n",
       "    <tr>\n",
       "      <th>2003-12-02</th>\n",
       "      <td>48.78</td>\n",
       "      <td>123.13</td>\n",
       "      <td>178.0</td>\n",
       "      <td>0.0</td>\n",
       "      <td>252.437027</td>\n",
       "      <td>-11.449940</td>\n",
       "      <td>-12.78</td>\n",
       "    </tr>\n",
       "  </tbody>\n",
       "</table>\n",
       "</div>"
      ],
      "text/plain": [
       "              Lat    Long    Alt  Precip        Temp       Pred  Actual\n",
       "Date                                                                   \n",
       "2003-12-02  47.98   55.82  190.0     0.0  271.142517 -14.988722  -16.59\n",
       "2003-12-02  49.38   82.12  245.0     0.0  265.255096 -21.777441  -20.07\n",
       "2003-12-02  46.29   64.15   45.0     0.0  270.236603 -16.933195   -8.42\n",
       "2003-12-02  45.32   75.67  114.0     0.0  269.147888 -19.425585  -13.85\n",
       "2003-12-02  48.78  123.13  178.0     0.0  252.437027 -11.449940  -12.78"
      ]
     },
     "execution_count": 3,
     "metadata": {},
     "output_type": "execute_result"
    }
   ],
   "source": [
    "# Import the results\n",
    "results = pd.read_csv('results_test.csv')\n",
    "results = results.rename(columns={\n",
    "    \"Precipitation (kg/m^2/s)\": \"Precip\",\n",
    "    \"Temperature (K)\": \"Temp\",\n",
    "    \"Predictions\": \"Pred\"\n",
    "})\n",
    "\n",
    "# Convert the date from ordinal to datetime\n",
    "results['Date'] = results['Date'].apply(lambda x: datetime.datetime.fromordinal(x))\n",
    "\n",
    "# Set index to date\n",
    "results = results.set_index('Date')\n",
    "\n",
    "results.head()"
   ]
  },
  {
   "cell_type": "markdown",
   "metadata": {},
   "source": [
    "## Extracting a specific location from the model\n"
   ]
  },
  {
   "cell_type": "code",
   "execution_count": 5,
   "metadata": {},
   "outputs": [
    {
     "data": {
      "text/plain": [
       "array([47.98, 49.38, 46.29, 45.32, 48.78, 49.82, 53.32, 63.52, 49.67])"
      ]
     },
     "execution_count": 5,
     "metadata": {},
     "output_type": "execute_result"
    }
   ],
   "source": [
    "# Res station located at lat of 74.43 and lon of 94.59\n",
    "results['Lat'].unique()"
   ]
  }
 ],
 "metadata": {
  "kernelspec": {
   "display_name": ".venv",
   "language": "python",
   "name": "python3"
  },
  "language_info": {
   "codemirror_mode": {
    "name": "ipython",
    "version": 3
   },
   "file_extension": ".py",
   "mimetype": "text/x-python",
   "name": "python",
   "nbconvert_exporter": "python",
   "pygments_lexer": "ipython3",
   "version": "3.11.7"
  }
 },
 "nbformat": 4,
 "nbformat_minor": 2
}
