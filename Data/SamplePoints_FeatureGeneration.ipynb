{
 "cells": [
  {
   "cell_type": "markdown",
   "metadata": {},
   "source": [
    "Sample Point Feature Generation\n",
    "==============================\n",
    "The sample points are evenly spaced across Canada. They were generated in QGIS, using a distance of 100km between each point. I know need to attach Precip and Temp data to each point using HydroGFD datasets. I will in this case also use the years 2000-2010."
   ]
  },
  {
   "cell_type": "markdown",
   "metadata": {},
   "source": [
    "## Table of Contents:\n",
    "1. [Date](#Date)\n",
    "2. [Precipitation](#Precipitation)\n",
    "3. [Temperature](#Temperature)\n",
    "4. [Export](#Export)"
   ]
  },
  {
   "cell_type": "markdown",
   "metadata": {},
   "source": [
    "# Date\n",
    "The date is generated using the `pandas` library. The date range is from 2000-01-01 to 2010-01-01. This will mean each lat lon coordinate will have a spot for each day in the range."
   ]
  }
 ],
 "metadata": {
  "kernelspec": {
   "display_name": "Python 3",
   "language": "python",
   "name": "python3"
  },
  "language_info": {
   "name": "python",
   "version": "3.12.0"
  }
 },
 "nbformat": 4,
 "nbformat_minor": 2
}
