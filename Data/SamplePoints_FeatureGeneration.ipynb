{
 "cells": [
  {
   "cell_type": "markdown",
   "metadata": {},
   "source": [
    "Sample Point Feature Generation\n",
    "==============================\n",
    "The sample points are evenly spaced across Canada. They were generated in QGIS, using a distance of 100km between each point. I know need to attach Precip and Temp data to each point using HydroGFD datasets. I will in this case also use the years 2000-2010."
   ]
  },
  {
   "cell_type": "code",
   "execution_count": 1,
   "metadata": {},
   "outputs": [],
   "source": [
    "# Library imports\n",
    "import pandas as pd\n",
    "import numpy as np\n",
    "import netCDF4 as nc"
   ]
  },
  {
   "cell_type": "markdown",
   "metadata": {},
   "source": [
    "## Table of Contents:\n",
    "1. [Date](#Date)\n",
    "2. [Precipitation](#Precipitation)\n",
    "3. [Temperature](#Temperature)\n",
    "4. [Export](#Export)"
   ]
  },
  {
   "cell_type": "markdown",
   "metadata": {},
   "source": [
    "# Date\n",
    "The date is generated using the `pandas` library. The date range is from 2000-01-01 to 2010-01-01. This will mean each lat lon coordinate will have a spot for each day in the range. The date columns will be both year and day of year."
   ]
  },
  {
   "cell_type": "markdown",
   "metadata": {},
   "source": [
    "# Precipitation\n",
    "The precipitation data will be derived from the HydroGFD dataset (netcdf). The data will be extracted using the `netcdf4` library. The data will be extracted for each lat lon coordinate for each day in the date range. The data will be stored in within the pandas dataframe."
   ]
  },
  {
   "cell_type": "markdown",
   "metadata": {},
   "source": [
    "# Temperature\n",
    "The temperature data will be derived from the HydroGFD dataset (netcdf). The data will be extracted using the `netcdf4` library. The data will be extracted for each lat lon coordinate for each day in the date range. The data will be stored in within the pandas dataframe."
   ]
  },
  {
   "cell_type": "markdown",
   "metadata": {},
   "source": [
    "# Export\n",
    "The data will be exported as a csv file. The file will be named `SamplePoints_Data.csv`. The file will contain the following columns:\n",
    "- `Year`: The year of the data\n",
    "- `DayOfYear`: The day of the year\n",
    "- `Lat`: The latitude of the point\n",
    "- `Lon`: The longitude of the point\n",
    "- `Alt`: The altitude of the point\n",
    "- `Precip`: The precipitation at the point\n",
    "- `Temp`: The temperature at the point"
   ]
  }
 ],
 "metadata": {
  "kernelspec": {
   "display_name": "Python 3",
   "language": "python",
   "name": "python3"
  },
  "language_info": {
   "codemirror_mode": {
    "name": "ipython",
    "version": 3
   },
   "file_extension": ".py",
   "mimetype": "text/x-python",
   "name": "python",
   "nbconvert_exporter": "python",
   "pygments_lexer": "ipython3",
   "version": "3.12.0"
  }
 },
 "nbformat": 4,
 "nbformat_minor": 2
}
