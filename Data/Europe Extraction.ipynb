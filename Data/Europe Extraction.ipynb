{
 "cells": [
  {
   "cell_type": "markdown",
   "metadata": {},
   "source": [
    "Extracting HydroGFD data from the HydroGFD database for Europe \n",
    "==============================================================\n",
    "Data is extracted in the same way as in Data Combination and Cleaning.ipynb. See that file for reference.\n"
   ]
  },
  {
   "cell_type": "code",
   "execution_count": 1,
   "metadata": {},
   "outputs": [],
   "source": [
    "# Load Libraries\n",
    "import numpy as np\n",
    "import pandas as pd\n",
    "import netCDF4 as nc\n",
    "import glob\n",
    "from datetime import datetime, timedelta"
   ]
  },
  {
   "cell_type": "code",
   "execution_count": 4,
   "metadata": {},
   "outputs": [
    {
     "name": "stderr",
     "output_type": "stream",
     "text": [
      "C:\\Users\\jaxgr\\AppData\\Local\\Temp\\ipykernel_19236\\134061143.py:25: FutureWarning: The behavior of DataFrame concatenation with empty or all-NA entries is deprecated. In a future version, this will no longer exclude empty or all-NA columns when determining the result dtypes. To retain the old behavior, exclude the relevant entries before the concat operation.\n",
      "  precip = pd.concat([precip, df], ignore_index=True)\n"
     ]
    },
    {
     "name": "stdout",
     "output_type": "stream",
     "text": [
      "Finished extracting data from 20000101-20041231\n",
      "Finished extracting data from 20050101-20051231\n",
      "Finished extracting data from 20060101-20101231\n"
     ]
    }
   ],
   "source": [
    "# Extract at 49.82 N and 7.6 E\n",
    "# Pull from 2003 to 2007\n",
    "precipFiles = glob.glob(\"HydroGFD/prAdjust*\")[-3:]\n",
    "\n",
    "# Loop through files and extract data and store in single dataframe\n",
    "precip = pd.DataFrame(columns=[\"Lat\", \"Lon\", \"Time\", \"Precipitation\"])\n",
    "\n",
    "for file in precipFiles:\n",
    "    ncid = nc.Dataset(file)\n",
    "\n",
    "    #Pull out the time data and coordiante data\n",
    "    time = ncid.variables[\"time\"][:].filled(np.nan)\n",
    "    lat = ncid.variables[\"lat\"][:].filled(np.nan)\n",
    "    lon = ncid.variables[\"lon\"][:].filled(np.nan)\n",
    "\n",
    "    # Finding nearest neighbor to 49.82 N and 7.6 E\n",
    "    latIndex = np.abs(lat - 49.82).argmin()\n",
    "    lonIndex = np.abs(lon - 7.6).argmin()\n",
    "\n",
    "    # Pull out the precipitation data\n",
    "    prAdjust = ncid.variables[\"prAdjust\"][:, latIndex, lonIndex].filled(np.nan)\n",
    "\n",
    "    # Place the lat, lon, time, and precipitation data into a dataframe\n",
    "    df = pd.DataFrame({\"Lat\": 49.82, \"Lon\": 7.6, \"Time\": time, \"Precipitation\": prAdjust})\n",
    "    precip = pd.concat([precip, df], ignore_index=True)\n",
    "    \n",
    "    print(\"Finished extracting data from \" + file[-20:-3])\n",
    "    ncid.close()\n",
    "\n",
    "# Convert the time data to datetime format\n",
    "precip[\"Time\"] = precip[\"Time\"].apply(lambda x: datetime(1850, 1, 1) + timedelta(days=x))"
   ]
  },
  {
   "cell_type": "code",
   "execution_count": 6,
   "metadata": {},
   "outputs": [
    {
     "name": "stderr",
     "output_type": "stream",
     "text": [
      "C:\\Users\\jaxgr\\AppData\\Local\\Temp\\ipykernel_19236\\492319575.py:23: FutureWarning: The behavior of DataFrame concatenation with empty or all-NA entries is deprecated. In a future version, this will no longer exclude empty or all-NA columns when determining the result dtypes. To retain the old behavior, exclude the relevant entries before the concat operation.\n",
      "  temp = pd.concat([temp, df], ignore_index=True)\n"
     ]
    },
    {
     "name": "stdout",
     "output_type": "stream",
     "text": [
      "Finished extracting data from 20000101-20041231\n",
      "Finished extracting data from 20050101-20051231\n",
      "Finished extracting data from 20060101-20101231\n"
     ]
    }
   ],
   "source": [
    "# Do same thing for temperature data\n",
    "tempFiles = glob.glob(\"HydroGFD/tasAdjust*\")[-3:]\n",
    "\n",
    "temp = pd.DataFrame(columns=[\"Lat\", \"Lon\", \"Time\", \"Temperature\"])\n",
    "\n",
    "for file in tempFiles:\n",
    "    ncid = nc.Dataset(file)\n",
    "\n",
    "    #Pull out the time data and coordiante data\n",
    "    time = ncid.variables[\"time\"][:].filled(np.nan)\n",
    "    lat = ncid.variables[\"lat\"][:].filled(np.nan)\n",
    "    lon = ncid.variables[\"lon\"][:].filled(np.nan)\n",
    "\n",
    "    # Finding nearest neighbor to 49.82 N and 7.6 E\n",
    "    latIndex = np.abs(lat - 49.82).argmin()\n",
    "    lonIndex = np.abs(lon - 7.6).argmin()\n",
    "\n",
    "    # Pull out the temperature data\n",
    "    tasAdjust = ncid.variables[\"tasAdjust\"][:, latIndex, lonIndex].filled(np.nan)\n",
    "\n",
    "    # Place the lat, lon, time, and temperature data into a dataframe\n",
    "    df = pd.DataFrame({\"Lat\": 49.82, \"Lon\": 7.6, \"Time\": time, \"Temperature\": tasAdjust})\n",
    "    temp = pd.concat([temp, df], ignore_index=True)\n",
    "    \n",
    "    print(\"Finished extracting data from \" + file[-20:-3])\n",
    "    ncid.close()\n",
    "\n",
    "temp[\"Time\"] = temp[\"Time\"].apply(lambda x: datetime(1850, 1, 1) + timedelta(days=x))"
   ]
  },
  {
   "cell_type": "code",
   "execution_count": 7,
   "metadata": {},
   "outputs": [],
   "source": [
    "# Combine the precipitation and temperature data into a single dataframe\n",
    "data = pd.merge(precip, temp, on=[\"Lat\", \"Lon\", \"Time\"])\n",
    "\n",
    "# Save the data to a csv file\n",
    "data.to_csv(\"Europe_Data.csv\", index=False)"
   ]
  }
 ],
 "metadata": {
  "kernelspec": {
   "display_name": "Python 3",
   "language": "python",
   "name": "python3"
  },
  "language_info": {
   "codemirror_mode": {
    "name": "ipython",
    "version": 3
   },
   "file_extension": ".py",
   "mimetype": "text/x-python",
   "name": "python",
   "nbconvert_exporter": "python",
   "pygments_lexer": "ipython3",
   "version": "3.12.0"
  }
 },
 "nbformat": 4,
 "nbformat_minor": 2
}
