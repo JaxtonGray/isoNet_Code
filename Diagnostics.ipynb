{
 "cells": [
  {
   "cell_type": "markdown",
   "metadata": {},
   "source": [
    "Examining Results\n",
    "=================\n",
    "* [Importing Results](#importing-results)\n",
    "* [Plot by date](#plot-by-date)\n"
   ]
  },
  {
   "cell_type": "markdown",
   "metadata": {},
   "source": [
    "## Importing the results"
   ]
  },
  {
   "cell_type": "code",
   "execution_count": null,
   "metadata": {},
   "outputs": [],
   "source": [
    "# Library imports\n",
    "import numpy as np\n",
    "import matplotlib.pyplot as plt\n",
    "import pandas as pd\n",
    "import datetime"
   ]
  },
  {
   "cell_type": "code",
   "execution_count": null,
   "metadata": {},
   "outputs": [],
   "source": [
    "# Import the results\n",
    "results = pd.read_csv('results_test.csv')\n",
    "results = results.rename(columns={\n",
    "    \"Precipitation (kg/m^2/s)\": \"Precip\",\n",
    "    \"Temperature (K)\": \"Temp\",\n",
    "    \"Predictions\": \"Pred\"\n",
    "})\n",
    "\n",
    "# Convert the date from ordinal to datetime\n",
    "results['Date'] = results['Date'].apply(lambda x: datetime.datetime.fromordinal(x))\n",
    "\n",
    "# Set index to date\n",
    "results = results.set_index('Date')\n",
    "\n",
    "results.head()"
   ]
  },
  {
   "cell_type": "code",
   "execution_count": null,
   "metadata": {},
   "outputs": [],
   "source": [
    "# Extract the station locations from the original data\n",
    "isoData = pd.read_csv(\"Isoscape_Data.csv\")\n",
    "stations = isoData[['Station', 'Lat', 'Long']].drop_duplicates()\n",
    "stationList = stations['Station'].tolist()\n",
    "stations.set_index('Station', inplace=True)"
   ]
  },
  {
   "cell_type": "code",
   "execution_count": null,
   "metadata": {},
   "outputs": [],
   "source": [
    "# Separating the results by station into a dictionary\n",
    "results_station = {}\n",
    "for stat in stationList:\n",
    "    results_station[stat] = results[results['Lat'] == stations.loc[stat, 'Lat']]"
   ]
  },
  {
   "cell_type": "markdown",
   "metadata": {},
   "source": [
    "## Plot by date"
   ]
  },
  {
   "cell_type": "code",
   "execution_count": null,
   "metadata": {},
   "outputs": [],
   "source": [
    "figure, axes = plt.subplots(5, 3, figsize=(20, 20))\n",
    "\n",
    "for stat in stationList:\n",
    "    data = results_station[stat]\n",
    "    ax = axes.flat[stationList.index(stat)]\n",
    "    ax.plot(data.index, data['Pred'], label='Predicted')\n",
    "    ax.plot(data.index, data['Actual'], label='Actual')\n",
    "    ax.xaxis.set_tick_params(rotation=45)\n",
    "    ax.set_title(stat)\n",
    "\n",
    "\n",
    "plt.subplots_adjust(wspace=0.2, hspace=0.5)\n",
    "\n",
    "# Create a big subplot covering all the smaller ones and set its x-axis label\n",
    "big_ax = figure.add_subplot(111, frameon=False)\n",
    "big_ax.tick_params(labelcolor='none', top=False, bottom=False, left=False, right=False)\n",
    "big_ax.set_xlabel('Date', labelpad=30, fontsize=20) \n",
    "big_ax.set_ylabel(r'$\\delta$O18 (‰)', labelpad=30, fontsize=20)  \n",
    "\n",
    "# Add a single legend for all subplots\n",
    "handles, labels = ax.get_legend_handles_labels()\n",
    "big_ax.legend(handles, labels, loc='upper right')\n",
    "\n",
    "plt.show()\n",
    "plt.close()"
   ]
  },
  {
   "cell_type": "markdown",
   "metadata": {},
   "source": [
    "## Plotting Predictions vs. Actuals"
   ]
  },
  {
   "cell_type": "code",
   "execution_count": null,
   "metadata": {},
   "outputs": [],
   "source": [
    "# Calculating the R^2 value\n",
    "from sklearn.metrics import r2_score\n",
    "coeff = r2_score(results['Actual'], results['Pred'])\n",
    "\n",
    "# Plotting the results\n",
    "plt.plot(results['Actual'], results['Pred'], 'o')\n",
    "plt.plot(results['Actual'], results['Actual'], color='red')\n",
    "\n",
    "# Placing the R^2 value in the plot\n",
    "plt.text(0.1, 0.9, 'R^2 = ' + str(round(coeff, 2)),\\\n",
    "        ha='center',\\\n",
    "        va='center',\\\n",
    "        transform=plt.gca().transAxes,\\\n",
    "        bbox=dict(facecolor='red', alpha=0.3, edgecolor='black', linewidth=2))\n",
    "\n",
    "\n",
    "# Labeling the axes\n",
    "plt.title('Predicted vs Actual')\n",
    "plt.xlabel('Actual')\n",
    "plt.ylabel('Predicted')\n",
    "plt.show()\n",
    "plt.close()"
   ]
  },
  {
   "cell_type": "markdown",
   "metadata": {},
   "source": [
    "## Plot Precipitation and isotopes"
   ]
  },
  {
   "cell_type": "code",
   "execution_count": null,
   "metadata": {},
   "outputs": [],
   "source": [
    "df = results_station[\"GOB\"]\n",
    "# Plotting the precipitation on one axis and the isotopes on the other\n",
    "fig, ax1 = plt.subplots()\n",
    "\n",
    "# Plotting the isotopes\n",
    "ax1.set_xlabel('Date')\n",
    "ax1.set_ylabel(r'$\\delta$O18 (‰)')\n",
    "ax1.plot(df.index, df['Actual'], label='Actual', color='Black')\n",
    "ax1.plot(df.index, df['Pred'], label='Predicted', color='orange')\n",
    "ax1.tick_params(axis='y')\n",
    "\n",
    "\n",
    "# Plotting the precipitation\n",
    "ax2 = ax1.twinx()\n",
    "ax2.set_ylabel('Precipitation (kg/m^2/s)')\n",
    "ax2.plot(df.index, df['Precip'], label='Precipitation', color='blue')\n",
    "ax2.tick_params(axis='y')\n",
    "\n",
    "ax1.xaxis.set_tick_params(rotation=45)\n",
    "\n",
    "# Adding the legend\n",
    "handles, labels = ax1.get_legend_handles_labels()\n",
    "handles2, labels2 = ax2.get_legend_handles_labels()\n",
    "handles.extend(handles2)\n",
    "labels.extend(labels2)\n",
    "ax1.legend(handles, labels, loc='upper right')\n",
    "plt.show()"
   ]
  },
  {
   "cell_type": "code",
   "execution_count": null,
   "metadata": {},
   "outputs": [],
   "source": [
    "df = results_station[\"GOB\"]\n",
    "# Plotting the precipitation on one axis and the isotopes on the other\n",
    "fig, ax1 = plt.subplots()\n",
    "\n",
    "# Plotting the isotopes\n",
    "ax1.set_xlabel('Date')\n",
    "ax1.set_ylabel(r'$\\delta$O18 (‰)')\n",
    "ax1.plot(df.index, df['Actual'], label='Actual', color='green')\n",
    "ax1.plot(df.index, df['Pred'], label='Predicted', color='orange')\n",
    "ax1.tick_params(axis='y')\n",
    "\n",
    "\n",
    "# Plotting the precipitation\n",
    "ax2 = ax1.twinx()\n",
    "ax2.set_ylabel('Temperature (K)')\n",
    "ax2.plot(df.index, df['Temp'], label='Temp', color='blue')\n",
    "ax2.tick_params(axis='y')\n",
    "\n",
    "ax1.xaxis.set_tick_params(rotation=45)\n",
    "\n",
    "# Adding the legend\n",
    "handles, labels = ax1.get_legend_handles_labels()\n",
    "handles2, labels2 = ax2.get_legend_handles_labels()\n",
    "handles.extend(handles2)\n",
    "labels.extend(labels2)\n",
    "ax1.legend(handles, labels, loc='upper right')\n",
    "\n",
    "plt.show()"
   ]
  }
 ],
 "metadata": {
  "kernelspec": {
   "display_name": ".venv",
   "language": "python",
   "name": "python3"
  },
  "language_info": {
   "codemirror_mode": {
    "name": "ipython",
    "version": 3
   },
   "file_extension": ".py",
   "mimetype": "text/x-python",
   "name": "python",
   "nbconvert_exporter": "python",
   "pygments_lexer": "ipython3",
   "version": "3.11.7"
  }
 },
 "nbformat": 4,
 "nbformat_minor": 2
}
