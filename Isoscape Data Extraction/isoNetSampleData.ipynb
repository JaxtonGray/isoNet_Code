{
 "cells": [
  {
   "cell_type": "markdown",
   "metadata": {},
   "source": [
    "isoNet Sample Points\n",
    "====================\n",
    "I will be using this notebook to generate the sample points for the isoNet dataset. I need the HydroGFD files as well, which will not be visible in this folder if you are viewing this on Github or downloaded from there. The instructions on dowloading them are in the data section of the code. It will be the exact same dataset used!"
   ]
  },
  {
   "cell_type": "code",
   "execution_count": 3,
   "metadata": {},
   "outputs": [],
   "source": [
    "# Load libraries\n",
    "import pandas as pd\n",
    "import numpy as np\n",
    "import tensorflow as tf\n",
    "import netCDF4 as nc"
   ]
  },
  {
   "cell_type": "code",
   "execution_count": 17,
   "metadata": {},
   "outputs": [],
   "source": [
    "# Load in sample data from csv\n",
    "samplePoints = pd.read_csv('SamplePoints_Alt.csv')\n",
    "\n",
    "# Change Alt (m) to just Alt\n",
    "samplePoints = samplePoints.rename(columns={'Alt (m)': 'Alt'})"
   ]
  },
  {
   "cell_type": "markdown",
   "metadata": {},
   "source": [
    "## Add in dates for the data\n",
    "I need data from 1988 to 2010. Every lat lon coordinate must have data for every day in that range. I will use the HydroGFD data to get the dates for the data."
   ]
  },
  {
   "cell_type": "code",
   "execution_count": 19,
   "metadata": {},
   "outputs": [
    {
     "name": "stderr",
     "output_type": "stream",
     "text": [
      "/tmp/ipykernel_222093/555233098.py:25: FutureWarning: The behavior of DataFrame concatenation with empty or all-NA entries is deprecated. In a future version, this will no longer exclude empty or all-NA columns when determining the result dtypes. To retain the old behavior, exclude the relevant entries before the concat operation.\n",
      "  isoNet_Sample = pd.concat([isoNet_Sample, temp], ignore_index=True)\n"
     ]
    },
    {
     "name": "stdout",
     "output_type": "stream",
     "text": [
      "Progress: 100.0%\r"
     ]
    }
   ],
   "source": [
    "# I need to create a new dataframe, I will do this by cycling through the samplePoints dataframe and creating a new dataframe with the same columns\n",
    "# However, this time at each row within the samplePoints dataframe, I will copy that information with the date range of 1988-2010.\n",
    "# This will mean that each coordinate will have monthly data for 22 years.\n",
    "\n",
    "# Create a new dataframe\n",
    "isoNet_Sample = pd.DataFrame(columns=['Lat', 'Lon', 'Alt', 'Year', 'Month'])\n",
    "\n",
    "# Create a list of years\n",
    "years = list(range(1988, 2011))\n",
    "\n",
    "# Create a list of months\n",
    "months = list(range(1, 13))\n",
    "\n",
    "n = len(years) * len(months)\n",
    "\n",
    "# Cycle through the samplePoints dataframe\n",
    "for index, row in samplePoints.iterrows():\n",
    "    temp = pd.DataFrame([row for _ in range(n)])\n",
    "\n",
    "    # Add the years and days to the dataframe\n",
    "    temp['Year'] = np.repeat(years, len(months))\n",
    "    temp['Month'] = np.tile(months, len(years))\n",
    "\n",
    "    # Append the temp dataframe to the isoNet_Sample dataframe\n",
    "    isoNet_Sample = pd.concat([isoNet_Sample, temp], ignore_index=True)\n",
    "    \n",
    "    percent = (index + 1) / len(samplePoints) * 100\n",
    "    print('Progress: ' + str(round(percent, 2)) + '%', end='\\r')"
   ]
  }
 ],
 "metadata": {
  "kernelspec": {
   "display_name": "Python 3",
   "language": "python",
   "name": "python3"
  },
  "language_info": {
   "codemirror_mode": {
    "name": "ipython",
    "version": 3
   },
   "file_extension": ".py",
   "mimetype": "text/x-python",
   "name": "python",
   "nbconvert_exporter": "python",
   "pygments_lexer": "ipython3",
   "version": "3.11.7"
  }
 },
 "nbformat": 4,
 "nbformat_minor": 2
}
