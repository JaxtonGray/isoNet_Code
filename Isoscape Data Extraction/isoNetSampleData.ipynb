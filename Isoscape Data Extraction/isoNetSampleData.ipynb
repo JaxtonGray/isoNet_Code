{
 "cells": [
  {
   "cell_type": "markdown",
   "metadata": {},
   "source": [
    "isoNet Sample Points\n",
    "====================\n",
    "I will be using this notebook to generate the sample points for the isoNet dataset. I need the HydroGFD files as well, which will not be visible in this folder if you are viewing this on Github or downloaded from there. The instructions on dowloading them are in the data section of the code. It will be the exact same dataset used!"
   ]
  },
  {
   "cell_type": "code",
   "execution_count": null,
   "metadata": {},
   "outputs": [],
   "source": [
    "# Load libraries\n",
    "import pandas as pd\n",
    "import numpy as np\n",
    "import tensorflow as tf\n",
    "import netCDF4 as nc\n",
    "import glob\n",
    "import datetime"
   ]
  },
  {
   "cell_type": "code",
   "execution_count": null,
   "metadata": {},
   "outputs": [],
   "source": [
    "# Load in sample data from csv\n",
    "samplePoints = pd.read_csv('SamplePoints_Alt.csv')\n",
    "\n",
    "# Change Alt (m) to just Alt\n",
    "samplePoints = samplePoints.rename(columns={'Alt (m)': 'Alt'})"
   ]
  },
  {
   "cell_type": "markdown",
   "metadata": {},
   "source": [
    "## Add in dates for the data\n",
    "I need data from 1988 to 2010. Every lat lon coordinate must have data for every day in that range. I will use the HydroGFD data to get the dates for the data."
   ]
  },
  {
   "cell_type": "code",
   "execution_count": null,
   "metadata": {},
   "outputs": [],
   "source": [
    "# I need to create a new dataframe, I will do this by cycling through the samplePoints dataframe and creating a new dataframe with the same columns\n",
    "# However, this time at each row within the samplePoints dataframe, I will copy that information with the date range of 1988-2010.\n",
    "# This will mean that each coordinate will have monthly data for 22 years.\n",
    "\n",
    "# Create a new dataframe\n",
    "isoNet_Sample = pd.DataFrame(columns=['Lat', 'Lon', 'Alt', 'Year', 'Month'])\n",
    "\n",
    "# Create a list of years\n",
    "years = list(range(1988, 2011))\n",
    "\n",
    "# Create a list of months\n",
    "months = list(range(1, 13))\n",
    "\n",
    "n = len(years) * len(months)\n",
    "\n",
    "# Cycle through the samplePoints dataframe\n",
    "for index, row in samplePoints.iterrows():\n",
    "    temp = pd.DataFrame([row for _ in range(n)])\n",
    "\n",
    "    # Add the years and days to the dataframe\n",
    "    temp['Year'] = np.repeat(years, len(months))\n",
    "    temp['Month'] = np.tile(months, len(years))\n",
    "\n",
    "    # Append the temp dataframe to the isoNet_Sample dataframe\n",
    "    isoNet_Sample = pd.concat([isoNet_Sample, temp], ignore_index=True)\n",
    "    \n",
    "    percent = (index + 1) / len(samplePoints) * 100\n",
    "    print('Progress: ' + str(round(percent, 2)) + '%', end='\\r')"
   ]
  },
  {
   "cell_type": "code",
   "execution_count": 28,
   "metadata": {},
   "outputs": [],
   "source": [
    "# Make a Date column and remove the Year and Month columns\n",
    "isoNet_Sample['Date'] = pd.to_datetime(isoNet_Sample[['Year', 'Month']].assign(day=1))\n",
    "isoNet_Sample = isoNet_Sample.drop(columns=['Year', 'Month'])"
   ]
  },
  {
   "cell_type": "markdown",
   "metadata": {},
   "source": [
    "## Extract the HydroGFD data separately using the coordinates"
   ]
  },
  {
   "cell_type": "code",
   "execution_count": 37,
   "metadata": {},
   "outputs": [
    {
     "name": "stdout",
     "output_type": "stream",
     "text": [
      "Progress: 100.0%\r"
     ]
    }
   ],
   "source": [
    "# I will now cycle through the isoNet_Sample dataframe and add the data from the netCDF files to the dataframe one row at a time. I will need to create a new column for each variable in the netCDF files starting with precipitation.\n",
    "isoNet_Sample['Precip'] = np.nan\n",
    "\n",
    "# Create a list of the netCDF files and ranges through\n",
    "files = glob.glob('HydroGFD/prAdjust*')\n",
    "fileRanges = [(int(file[-20:-16]), int(file[-11:-7])) for file in files]\n",
    "\n",
    "# Cycle through the isoNet_Sample dataframe\n",
    "for index, row in isoNet_Sample.iterrows():\n",
    "    # Get the date and creat a time variable representing that date as days since 1850-01-01\n",
    "    date = row['Date']\n",
    "    time = (date - datetime.datetime(1850, 1, 1)).days\n",
    "    # Find the file that contains the date by looking at the fileRanges list and examining the start and end years of each tuple in each element of the list\n",
    "    for i in range(len(fileRanges)):\n",
    "        if date.year >= fileRanges[i][0] and date.year <= fileRanges[i][1]:\n",
    "            file = files[i]\n",
    "            break\n",
    "    \n",
    "    # Open the netCDF file\n",
    "    ncid = nc.Dataset(file)\n",
    "    # Pull out the coordinates and time variables\n",
    "    latCDF = ncid.variables['lat'][:].filled()\n",
    "    lonCDF = ncid.variables['lon'][:].filled()\n",
    "    timeCDF = ncid.variables['time'][:].filled()\n",
    "\n",
    "    # Find the index of the closest latitude, longitude, and time to the row's latitude, longitude, and time\n",
    "    latIndex = np.argmin(np.abs(latCDF - row['Lat']))\n",
    "    lonIndex = np.argmin(np.abs(lonCDF - row['Lon']))\n",
    "    timeIndex = np.argmin(np.abs(timeCDF - time))\n",
    "\n",
    "    # Pull out the precipitation data\n",
    "    precipData = ncid.variables['prAdjust'][timeIndex, latIndex, lonIndex].filled(np.nan)\n",
    "\n",
    "    # Add the precipitation data to the row\n",
    "    isoNet_Sample.at[index, 'Precip'] = precipData.item()\n",
    "\n",
    "    percent = (index + 1) / len(isoNet_Sample) * 100\n",
    "    print('Progress: ' + str(round(percent, 2)) + '%', end='\\r') \n"
   ]
  },
  {
   "cell_type": "code",
   "execution_count": 38,
   "metadata": {},
   "outputs": [
    {
     "name": "stdout",
     "output_type": "stream",
     "text": [
      "Progress: 100.0%\r"
     ]
    }
   ],
   "source": [
    "# Now I will add the temperature data to the dataframe\n",
    "isoNet_Sample['Temp'] = np.nan\n",
    "\n",
    "# Create a list of the netCDF files and ranges through\n",
    "files = glob.glob('HydroGFD/tasAdjust*')\n",
    "fileRanges = [(int(file[-20:-16]), int(file[-11:-7])) for file in files]\n",
    "\n",
    "for index, row in isoNet_Sample.iterrows():\n",
    "    # Get the date and creat a time variable representing that date as days since 1850-01-01\n",
    "    date = row['Date']\n",
    "    time = (date - datetime.datetime(1850, 1, 1)).days\n",
    "    # Find the file that contains the date by looking at the fileRanges list and examining the start and end years of each tuple in each element of the list\n",
    "    for i in range(len(fileRanges)):\n",
    "        if date.year >= fileRanges[i][0] and date.year <= fileRanges[i][1]:\n",
    "            file = files[i]\n",
    "            break\n",
    "    \n",
    "    # Open the netCDF file\n",
    "    ncid = nc.Dataset(file)\n",
    "    # Pull out the coordinates and time variables\n",
    "    latCDF = ncid.variables['lat'][:].filled()\n",
    "    lonCDF = ncid.variables['lon'][:].filled()\n",
    "    timeCDF = ncid.variables['time'][:].filled()\n",
    "\n",
    "    # Find the index of the closest latitude, longitude, and time to the row's latitude, longitude, and time\n",
    "    latIndex = np.argmin(np.abs(latCDF - row['Lat']))\n",
    "    lonIndex = np.argmin(np.abs(lonCDF - row['Lon']))\n",
    "    timeIndex = np.argmin(np.abs(timeCDF - time))\n",
    "\n",
    "    # Pull out the precipitation data\n",
    "    tempData = ncid.variables['tasAdjust'][timeIndex, latIndex, lonIndex].filled(np.nan)\n",
    "\n",
    "    # Add the precipitation data to the row\n",
    "    isoNet_Sample.at[index, 'Temp'] = tempData.item()\n",
    "\n",
    "    percent = (index + 1) / len(isoNet_Sample) * 100\n",
    "    print('Progress: ' + str(round(percent, 2)) + '%', end='\\r') \n"
   ]
  },
  {
   "cell_type": "code",
   "execution_count": 39,
   "metadata": {},
   "outputs": [],
   "source": [
    "# Save the dataframe to a csv file\n",
    "isoNet_Sample.to_csv('isoNet_Sample_nopreds.csv', index=False)"
   ]
  },
  {
   "cell_type": "markdown",
   "metadata": {},
   "source": [
    "## Generate the estimations for the data"
   ]
  },
  {
   "cell_type": "code",
   "execution_count": 40,
   "metadata": {},
   "outputs": [],
   "source": [
    "# Convert the Date column to year and day of year columns\n",
    "isoNet_Sample['Year'] = isoNet_Sample['Date'].dt.year\n",
    "isoNet_Sample['DOY'] = isoNet_Sample['Date'].dt.dayofyear\n",
    "\n",
    "isoNet_Sample = isoNet_Sample.drop(columns=['Date'])"
   ]
  },
  {
   "cell_type": "code",
   "execution_count": 41,
   "metadata": {},
   "outputs": [],
   "source": [
    "# Reorder the columns for the neural network\n",
    "isoNet_Sample = isoNet_Sample[['Lat', 'Lon', 'Alt', 'Precip', 'Temp', 'Year', 'DOY']]"
   ]
  },
  {
   "cell_type": "code",
   "execution_count": 42,
   "metadata": {},
   "outputs": [],
   "source": [
    "# Load in the neural network\n",
    "model = tf.keras.models.load_model('isoNet.keras')"
   ]
  },
  {
   "cell_type": "code",
   "execution_count": 43,
   "metadata": {},
   "outputs": [
    {
     "name": "stderr",
     "output_type": "stream",
     "text": [
      "2024-03-26 09:39:45.294316: W external/local_tsl/tsl/framework/cpu_allocator_impl.cc:83] Allocation of 78810144 exceeds 10% of free system memory.\n"
     ]
    },
    {
     "name": "stdout",
     "output_type": "stream",
     "text": [
      "43979/43979 [==============================] - 389s 9ms/step\n"
     ]
    }
   ],
   "source": [
    "# Do the predictions\n",
    "isoNet_Sample['Pred'] = model.predict(isoNet_Sample[['Lat', 'Lon', 'Alt', 'Precip', 'Temp', 'Year', 'DOY']])"
   ]
  },
  {
   "cell_type": "code",
   "execution_count": 51,
   "metadata": {},
   "outputs": [],
   "source": [
    "# Convert the year and Day of year (DOY) columns to a date column\n",
    "isoNet_Sample['Date'] = pd.to_datetime(isoNet_Sample['Year'].astype(str) + ' ' + isoNet_Sample['Day'].astype(str), format='%Y %j')\n"
   ]
  },
  {
   "cell_type": "code",
   "execution_count": 53,
   "metadata": {},
   "outputs": [
    {
     "data": {
      "text/html": [
       "<div>\n",
       "<style scoped>\n",
       "    .dataframe tbody tr th:only-of-type {\n",
       "        vertical-align: middle;\n",
       "    }\n",
       "\n",
       "    .dataframe tbody tr th {\n",
       "        vertical-align: top;\n",
       "    }\n",
       "\n",
       "    .dataframe thead th {\n",
       "        text-align: right;\n",
       "    }\n",
       "</style>\n",
       "<table border=\"1\" class=\"dataframe\">\n",
       "  <thead>\n",
       "    <tr style=\"text-align: right;\">\n",
       "      <th></th>\n",
       "      <th>Lat</th>\n",
       "      <th>Lon</th>\n",
       "      <th>Alt</th>\n",
       "      <th>Precip</th>\n",
       "      <th>Temp</th>\n",
       "      <th>Pred</th>\n",
       "      <th>Date</th>\n",
       "    </tr>\n",
       "  </thead>\n",
       "  <tbody>\n",
       "    <tr>\n",
       "      <th>0</th>\n",
       "      <td>83.028903</td>\n",
       "      <td>-77.237688</td>\n",
       "      <td>31.0</td>\n",
       "      <td>0.000004</td>\n",
       "      <td>241.804398</td>\n",
       "      <td>-26.572453</td>\n",
       "      <td>1988-01-01</td>\n",
       "    </tr>\n",
       "    <tr>\n",
       "      <th>1</th>\n",
       "      <td>83.028903</td>\n",
       "      <td>-77.237688</td>\n",
       "      <td>31.0</td>\n",
       "      <td>0.000003</td>\n",
       "      <td>249.465118</td>\n",
       "      <td>-93.013992</td>\n",
       "      <td>1988-02-01</td>\n",
       "    </tr>\n",
       "    <tr>\n",
       "      <th>2</th>\n",
       "      <td>83.028903</td>\n",
       "      <td>-77.237688</td>\n",
       "      <td>31.0</td>\n",
       "      <td>0.000000</td>\n",
       "      <td>246.644028</td>\n",
       "      <td>-98.664703</td>\n",
       "      <td>1988-03-01</td>\n",
       "    </tr>\n",
       "    <tr>\n",
       "      <th>3</th>\n",
       "      <td>83.028903</td>\n",
       "      <td>-77.237688</td>\n",
       "      <td>31.0</td>\n",
       "      <td>0.000003</td>\n",
       "      <td>248.061203</td>\n",
       "      <td>-98.636848</td>\n",
       "      <td>1988-04-01</td>\n",
       "    </tr>\n",
       "    <tr>\n",
       "      <th>4</th>\n",
       "      <td>83.028903</td>\n",
       "      <td>-77.237688</td>\n",
       "      <td>31.0</td>\n",
       "      <td>0.000002</td>\n",
       "      <td>254.822495</td>\n",
       "      <td>-98.143120</td>\n",
       "      <td>1988-05-01</td>\n",
       "    </tr>\n",
       "  </tbody>\n",
       "</table>\n",
       "</div>"
      ],
      "text/plain": [
       "         Lat        Lon   Alt    Precip        Temp       Pred       Date\n",
       "0  83.028903 -77.237688  31.0  0.000004  241.804398 -26.572453 1988-01-01\n",
       "1  83.028903 -77.237688  31.0  0.000003  249.465118 -93.013992 1988-02-01\n",
       "2  83.028903 -77.237688  31.0  0.000000  246.644028 -98.664703 1988-03-01\n",
       "3  83.028903 -77.237688  31.0  0.000003  248.061203 -98.636848 1988-04-01\n",
       "4  83.028903 -77.237688  31.0  0.000002  254.822495 -98.143120 1988-05-01"
      ]
     },
     "execution_count": 53,
     "metadata": {},
     "output_type": "execute_result"
    }
   ],
   "source": [
    "# Drop the Year and Day columns\n",
    "isoNet_Sample = isoNet_Sample.drop(columns=['Year', 'Day'])\n",
    "\n",
    "isoNet_Sample.head()"
   ]
  },
  {
   "cell_type": "code",
   "execution_count": 48,
   "metadata": {},
   "outputs": [],
   "source": [
    "# Save the dataframe to a csv file\n",
    "isoNet_Sample.to_csv('isoNet_Sample_preds.csv', index=False)"
   ]
  }
 ],
 "metadata": {
  "kernelspec": {
   "display_name": "Python 3",
   "language": "python",
   "name": "python3"
  },
  "language_info": {
   "codemirror_mode": {
    "name": "ipython",
    "version": 3
   },
   "file_extension": ".py",
   "mimetype": "text/x-python",
   "name": "python",
   "nbconvert_exporter": "python",
   "pygments_lexer": "ipython3",
   "version": "3.11.7"
  }
 },
 "nbformat": 4,
 "nbformat_minor": 2
}
