{
 "cells": [
  {
   "cell_type": "markdown",
   "metadata": {},
   "source": [
    "Isoscape Data Extraction\n",
    "========================\n",
    "I will be taking the isoP data and grouping by similar lat/long coordinates, then averaging by date."
   ]
  },
  {
   "cell_type": "code",
   "execution_count": 1,
   "metadata": {},
   "outputs": [],
   "source": [
    "# Libraries\n",
    "import numpy as np\n",
    "import pandas as pd"
   ]
  },
  {
   "cell_type": "code",
   "execution_count": 2,
   "metadata": {},
   "outputs": [],
   "source": [
    "# Load data\n",
    "isoP_Data = pd.read_csv(\"isoP_SampleData.csv\")\n",
    "\n",
    "# Correct the Month and Year columns into a single date column\n",
    "isoP_Data['Date'] = pd.to_datetime(isoP_Data[['Year', 'Month']].assign(DAY=1))\n",
    "isoP_Data = isoP_Data.drop(columns=['Year', 'Month'])\n",
    "\n",
    "# Open the coords into one dataframe\n",
    "coords = pd.read_csv(\"latlon_points.csv\")"
   ]
  },
  {
   "cell_type": "code",
   "execution_count": 3,
   "metadata": {},
   "outputs": [
    {
     "name": "stderr",
     "output_type": "stream",
     "text": [
      "C:\\Users\\jaxgr\\AppData\\Local\\Temp\\ipykernel_2612\\3243398860.py:20: FutureWarning: The behavior of DataFrame concatenation with empty or all-NA entries is deprecated. In a future version, this will no longer exclude empty or all-NA columns when determining the result dtypes. To retain the old behavior, exclude the relevant entries before the concat operation.\n",
      "  isoP_Mean = pd.concat([isoP_Mean, new_data], ignore_index=True)\n"
     ]
    }
   ],
   "source": [
    "# Cycle through each lat lon coordinate and calculate the mean isotope value based off all the years\n",
    "# then save that information into a new dataframe: isoP_Mean\n",
    "isoP_Mean = pd.DataFrame(columns=['Lat', 'Lon', 'isoP'])\n",
    "\n",
    "# Cycle through each lat lon coordinate\n",
    "for i in range(len(coords)):\n",
    "    # Get the lat and lon\n",
    "    lat = coords.loc[i, 'lat']\n",
    "    lon = coords.loc[i, 'long']\n",
    "\n",
    "    # Get the data for that lat lon \n",
    "    data = isoP_Data[(isoP_Data['Lat'] == lat) & (isoP_Data['Lon'] == lon)]\n",
    "\n",
    "    # Calculate the mean isotope value\n",
    "    isoP_Value = data['d18O'].mean()\n",
    "\n",
    "    # Combine the lat, lon, and isotope value into a new dataframe\n",
    "    new_data = pd.DataFrame({'Lat': lat, 'Lon': lon, 'isoP': isoP_Value}, index=[0])\n",
    "    # Save the mean isotope value into the new dataframe\n",
    "    isoP_Mean = pd.concat([isoP_Mean, new_data], ignore_index=True)\n",
    "\n"
   ]
  },
  {
   "cell_type": "code",
   "execution_count": null,
   "metadata": {},
   "outputs": [],
   "source": [
    "# Export the new dataframe into a csv file\n",
    "isoP_Mean.to_csv(\"isoP_Mean.csv\", index=False)"
   ]
  }
 ],
 "metadata": {
  "kernelspec": {
   "display_name": "Python 3",
   "language": "python",
   "name": "python3"
  },
  "language_info": {
   "codemirror_mode": {
    "name": "ipython",
    "version": 3
   },
   "file_extension": ".py",
   "mimetype": "text/x-python",
   "name": "python",
   "nbconvert_exporter": "python",
   "pygments_lexer": "ipython3",
   "version": "3.12.0"
  }
 },
 "nbformat": 4,
 "nbformat_minor": 2
}
